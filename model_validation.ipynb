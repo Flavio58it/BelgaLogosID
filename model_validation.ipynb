{
 "cells": [
  {
   "cell_type": "markdown",
   "metadata": {},
   "source": [
    "# Model validation - automotive brand dataset\n",
    " \n",
    "Let's now validate the model accross the whole dataset. As evaluation is pretty slow with the brute-force matching,\n",
    "we will use models specialised to each brand, rather than a general model that can assess every brand. This will naturally\n",
    "supress the false-positive rate, so this must be kept in mind.\n",
    "\n",
    "We start with some general initialisation:"
   ]
  },
  {
   "cell_type": "code",
   "execution_count": 1,
   "metadata": {},
   "outputs": [],
   "source": [
    "import lib.load_data as ld\n",
    "import lib.model as model\n",
    "from lib.validation import study_matches\n",
    "import cv2, os\n",
    "\n",
    "# Read in the BelgaLogos dataset, filtered by acceptable bounding-boxes and 'OK' flag\n",
    "metadata = ld.read_metadata()\n",
    "metadata = ld.filter_by_boundingbox(metadata, 10, 800)\n",
    "metadata = metadata[metadata.ok == True]"
   ]
  },
  {
   "cell_type": "markdown",
   "metadata": {},
   "source": [
    "and write a function that generates results from `study_matches` for each brand, summarising them in a dictionary:"
   ]
  },
  {
   "cell_type": "code",
   "execution_count": 2,
   "metadata": {},
   "outputs": [],
   "source": [
    "def validation_run(metadata, logo_set):\n",
    "    \"\"\"Perform a validation run over a list of logos, returning a results dictionary\"\"\"\n",
    "    # Initialise a dictionary for results\n",
    "    results_list = []\n",
    "    for logo_name in logo_set:\n",
    "        # Get the logo image\n",
    "        logo_filename = os.path.join(\"data\", \"logos\", logo_name.lower() + '.jpg')\n",
    "        logo_image = cv2.imread(logo_filename)\n",
    "\n",
    "        # Initialise model\n",
    "        SIFT = cv2.xfeatures2d.SIFT_create()\n",
    "        SIFTMatcher = model.KeypointMatcher(SIFT, cv2.NORM_L2SQR)\n",
    "        SIFTMatcher.add_template(logo_name, logo_image)\n",
    "\n",
    "        # Get target dataset\n",
    "        dataset = metadata[(metadata.brand == logo_name)]\n",
    "\n",
    "        #Perform study\n",
    "        results_list.append(study_matches(dataset, SIFTMatcher))\n",
    "    return results_list"
   ]
  },
  {
   "cell_type": "markdown",
   "metadata": {},
   "source": [
    "Finally we initialise our brand lists and perform the validation runs"
   ]
  },
  {
   "cell_type": "code",
   "execution_count": 3,
   "metadata": {},
   "outputs": [],
   "source": [
    "# Initialise a list of car and clothing logo brands\n",
    "car_logos      = [\"Citroen\", \"Citroen-text\", \"Ferrari\", \"Kia\", \"Mercedes\", \"Peugeot\"]\n",
    "clothing_logos = [\"Adidas\", \"Airness\", \"Gucci\", \"Nike\", \"Puma\", \"Puma-text\", \"Reebok\", \"Umbro\"]"
   ]
  },
  {
   "cell_type": "code",
   "execution_count": null,
   "metadata": {},
   "outputs": [],
   "source": [
    "%%time \n",
    "car_results = validation_run(metadata, car_logos) # Run over car logos"
   ]
  },
  {
   "cell_type": "code",
   "execution_count": null,
   "metadata": {},
   "outputs": [],
   "source": [
    "%%time \n",
    "clothing_results = validation_run(metadata, clothing_logos) # Run over clothing logos"
   ]
  },
  {
   "cell_type": "code",
   "execution_count": null,
   "metadata": {},
   "outputs": [],
   "source": [
    "from lib.validation import validation_histogram\n",
    "import importlib\n",
    "from matplotlib import pyplot as plt\n",
    "# Plot validation histograms\n",
    "plt.show(validation_histogram(car_results, car_logos))\n",
    "plt.show(validation_histogram(clothing_results, car_logos))"
   ]
  },
  {
   "cell_type": "code",
   "execution_count": null,
   "metadata": {},
   "outputs": [],
   "source": [
    "import pandas as pd\n",
    "import lib.util as ut\n",
    "car_dataframe = pd.DataFrame(car_results, columns=car_logos)\n",
    "clothing_dataframe = pd.DataFrame(car_results, columns=car_logos)\n",
    "ut.multi_table([car_dataframe, clothing_dataframe], [\"Car logo summary\", \"Clothing logo summary\"])"
   ]
  },
  {
   "cell_type": "code",
   "execution_count": null,
   "metadata": {},
   "outputs": [],
   "source": []
  }
 ],
 "metadata": {
  "kernelspec": {
   "display_name": "Python 3",
   "language": "python",
   "name": "python3"
  },
  "language_info": {
   "codemirror_mode": {
    "name": "ipython",
    "version": 3
   },
   "file_extension": ".py",
   "mimetype": "text/x-python",
   "name": "python",
   "nbconvert_exporter": "python",
   "pygments_lexer": "ipython3",
   "version": "3.6.5"
  }
 },
 "nbformat": 4,
 "nbformat_minor": 2
}
